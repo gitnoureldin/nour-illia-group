{
 "cells": [
  {
   "cell_type": "markdown",
   "id": "9f3f67c0-5f0b-4788-8aff-f0c8149725d6",
   "metadata": {},
   "source": [
    "## Homework 3\n",
    "\n",
    "First 2 Tasks are about Conditional Logic from last lesson. You can do them as latest."
   ]
  },
  {
   "cell_type": "markdown",
   "id": "83ef0d51-4ea5-4391-96da-4bf78333e90e",
   "metadata": {},
   "source": [
    "### Task 1\n",
    "\n",
    "- Fix the Exercise 3 from last lesson so that it works correctly if the hour input is 1. For example, if the hour is bigger than 22 or smaller than 7, the program should consider it to be late and so young users should sleep and older users still can watch a movie. \n",
    "\n",
    "```python\n",
    "age = int(input('Enter your age:\\n'))\n",
    "\n",
    "hour = int(input('What is the hour? (0-24)\\n'))\n",
    "\n",
    "is_late = hour >= 22\n",
    "\n",
    "is_too_young = age <= 12\n",
    "\n",
    "if is_late:\n",
    "    if is_too_young:\n",
    "        print('You should be sleeping ...')\n",
    "    else:\n",
    "        print('Want to watch a movie?')\n",
    "else:\n",
    "    print('Go for a walk!')\n",
    "```"
   ]
  },
  {
   "cell_type": "code",
   "execution_count": 15,
   "id": "a45554c3-6cbd-4dd3-99d5-f0e9165218da",
   "metadata": {},
   "outputs": [
    {
     "ename": "ValueError",
     "evalue": "invalid literal for int() with base 10: ''",
     "output_type": "error",
     "traceback": [
      "\u001b[1;31m---------------------------------------------------------------------------\u001b[0m",
      "\u001b[1;31mValueError\u001b[0m                                Traceback (most recent call last)",
      "Cell \u001b[1;32mIn[15], line 1\u001b[0m\n\u001b[1;32m----> 1\u001b[0m age \u001b[39m=\u001b[39m \u001b[39mint\u001b[39;49m(\u001b[39minput\u001b[39;49m(\u001b[39m'\u001b[39;49m\u001b[39mEnter your age:\u001b[39;49m\u001b[39m\\n\u001b[39;49;00m\u001b[39m'\u001b[39;49m))\n\u001b[0;32m      2\u001b[0m hour \u001b[39m=\u001b[39m \u001b[39mint\u001b[39m(\u001b[39minput\u001b[39m(\u001b[39m'\u001b[39m\u001b[39mWhat is the hour? (0-24)\u001b[39m\u001b[39m\\n\u001b[39;00m\u001b[39m'\u001b[39m))\n\u001b[0;32m      3\u001b[0m is_late \u001b[39m=\u001b[39m hour \u001b[39m>\u001b[39m\u001b[39m=\u001b[39m \u001b[39m22\u001b[39m \u001b[39mor\u001b[39;00m hour \u001b[39m<\u001b[39m \u001b[39m7\u001b[39m\n",
      "\u001b[1;31mValueError\u001b[0m: invalid literal for int() with base 10: ''"
     ]
    }
   ],
   "source": [
    "age = int(input('Enter your age:\\n'))\n",
    "hour = int(input('What is the hour? (0-24)\\n'))\n",
    "is_late = hour >= 22 or hour < 7\n",
    "is_too_young = age <= 12\n",
    "if is_late:\n",
    "    if is_too_young:\n",
    "        print('You should be sleeping ...')\n",
    "    else:\n",
    "        print('Want to watch a movie?')\n",
    "else:\n",
    "    print('Go for a walk!')"
   ]
  },
  {
   "cell_type": "markdown",
   "id": "9c9648a1-477e-43ec-aa4d-3e8659cc26a4",
   "metadata": {},
   "source": [
    "### Task 2\n",
    "- Reimplement the Exercise 3 from last lesson so that it doesn’t contain nested conditions, e.g. there is no if conditional inside another if conditional. It’s possible to do using if-elif-else construction and logical operators: or, and, not\n",
    "\n",
    "```python\n",
    "age = int(input('Enter your age:\\n'))\n",
    "\n",
    "hour = int(input('What is the hour? (0-24)\\n'))\n",
    "\n",
    "is_late = hour >= 22\n",
    "\n",
    "is_too_young = age <= 12\n",
    "\n",
    "if is_late:\n",
    "    if is_too_young:\n",
    "        print('You should be sleeping ...')\n",
    "    else:\n",
    "        print('Want to watch a movie?')\n",
    "else:\n",
    "    print('Go for a walk!')\n",
    "```"
   ]
  },
  {
   "cell_type": "code",
   "execution_count": null,
   "id": "d6921a0d",
   "metadata": {},
   "outputs": [
    {
     "ename": "SyntaxError",
     "evalue": "invalid syntax (581500229.py, line 11)",
     "output_type": "error",
     "traceback": [
      "\u001b[1;36m  Cell \u001b[1;32mIn[12], line 11\u001b[1;36m\u001b[0m\n\u001b[1;33m    elif\u001b[0m\n\u001b[1;37m        ^\u001b[0m\n\u001b[1;31mSyntaxError\u001b[0m\u001b[1;31m:\u001b[0m invalid syntax\n"
     ]
    }
   ],
   "source": [
    "age = int(input('Enter your age:\\n'))\n",
    "\n",
    "hour = int(input('What is the hour? (0-24)\\n'))\n",
    "\n",
    "is_late = hour >= 22\n",
    "\n",
    "is_too_young = age <= 12\n",
    "\n",
    "if is_late and is_too_young:\n",
    "        print('You should be sleeping ...')\n",
    "elif\n",
    "        print('Want to watch a movie?')\n",
    "else:\n",
    " print('Go for a walk!')"
   ]
  },
  {
   "cell_type": "markdown",
   "id": "90af77f6-da81-4c45-94e6-af3d2240e30c",
   "metadata": {},
   "source": [
    "### Task 3\n",
    "Write a program which reads integer numbers from user’s input one by one and does the following: If the number is less than 10 - skip that number and read a new one If the number is bigger, than 100 - finish the program Otherwise - print the number in a new line and read a new number.\n",
    "\n",
    "\n",
    "\n",
    "Example:\n",
    "\n",
    "- Input: 12 4 2 58 112\n",
    "- Output: 12 58\n",
    "\n",
    "*Hint: use while*"
   ]
  },
  {
   "cell_type": "code",
   "execution_count": null,
   "id": "ef3c2bfe-69c4-412b-94ae-40f24039aa23",
   "metadata": {},
   "outputs": [
    {
     "name": "stdout",
     "output_type": "stream",
     "text": [
      "10\n",
      "100\n"
     ]
    }
   ],
   "source": [
    "number = 0\n",
    "while number <= 100:\n",
    "    number = int(input('Enter a number: '))\n",
    "    if number >= 10 and number <= 100:\n",
    "        print(number)\n",
    "\n"
   ]
  },
  {
   "cell_type": "markdown",
   "id": "7ebd2944-cffe-40a2-9722-4ae660c96fbb",
   "metadata": {},
   "source": [
    "### Task 4\n",
    "Write a program which reads integer numbers from user’s input one by one until the sum of the given numbers is not 0. When the sum of the numbers is 0, program should print all the given numbers sorted and finish\n",
    "\n",
    "\n",
    "Example:\n",
    "\n",
    "- Input: 1 -3 5 -6 -10 13\n",
    "- Output: -10 -6 -3 1 5 13\n",
    "\n",
    "*Hint: use while*"
   ]
  },
  {
   "cell_type": "code",
   "execution_count": null,
   "id": "06fa90d3-daf5-4699-b2ef-514d9ac9cce0",
   "metadata": {},
   "outputs": [],
   "source": [
    "number = 0 \n",
    "while number < 0:\n",
    "    number = int(input('Enter a number'))\n",
    "    if number == 0 : \n",
    "        print('all the given numbers sorted and finish')"
   ]
  },
  {
   "cell_type": "markdown",
   "id": "afce873b-d971-4dee-ac69-1541dfb59390",
   "metadata": {},
   "source": [
    "### Task 5\n",
    "If we list all the natural numbers below 10 which are multiples of 3 or 5, we get 3, 5, 6 and 9. The sum of these multiples is 23. Write a program which finds the sum of all the multiples of 3 or 5 below 1000.\n",
    "\n",
    "*Hint: use for loop*"
   ]
  },
  {
   "cell_type": "code",
   "execution_count": null,
   "id": "ca055b0b-10fa-4f11-96c9-994d9918af7a",
   "metadata": {},
   "outputs": [],
   "source": [
    "sum = 0\n",
    "\n",
    "for i in range(1, 1000):\n",
    "    if i % 3 == 0 or i % 5 == 0:\n",
    "        sum += i\n",
    "\n",
    "print(sum)\n"
   ]
  },
  {
   "cell_type": "markdown",
   "id": "bf78ef47-7558-4b58-a0d7-2f93d69dfda7",
   "metadata": {},
   "source": [
    "### Task 6\n",
    "Write a Python program which iterates the integers from 1 to 50. For multiples of three print \"Fizz\" instead of the number and for the multiples of five print \"Buzz\". For numbers which are multiples of both three and five print \"FizzBuzz\".\n",
    "*Hint: use for loop, range, if and continue"
   ]
  },
  {
   "cell_type": "code",
   "execution_count": null,
   "id": "0ab66358-a4ac-4366-b208-d88fc3fb665c",
   "metadata": {},
   "outputs": [
    {
     "name": "stdout",
     "output_type": "stream",
     "text": [
      "1\n",
      "2\n",
      "Fizz\n",
      "4\n",
      "Buzz\n",
      "Fizz\n",
      "7\n",
      "8\n",
      "Fizz\n",
      "Buzz\n",
      "11\n",
      "Fizz\n",
      "13\n",
      "14\n",
      "FizzBuzz\n",
      "16\n",
      "17\n",
      "Fizz\n",
      "19\n",
      "Buzz\n",
      "Fizz\n",
      "22\n",
      "23\n",
      "Fizz\n",
      "Buzz\n",
      "26\n",
      "Fizz\n",
      "28\n",
      "29\n",
      "FizzBuzz\n",
      "31\n",
      "32\n",
      "Fizz\n",
      "34\n",
      "Buzz\n",
      "Fizz\n",
      "37\n",
      "38\n",
      "Fizz\n",
      "Buzz\n",
      "41\n",
      "Fizz\n",
      "43\n",
      "44\n",
      "FizzBuzz\n",
      "46\n",
      "47\n",
      "Fizz\n",
      "49\n",
      "Buzz\n"
     ]
    }
   ],
   "source": [
    "for i in range(1, 51):\n",
    "    if i % 3 == 0 and i % 5 == 0:\n",
    "        print(\"FizzBuzz\")\n",
    "        continue\n",
    "    elif i % 3 == 0:\n",
    "        print(\"Fizz\")\n",
    "        continue\n",
    "    elif i % 5 == 0:\n",
    "        print(\"Buzz\")\n",
    "        continue\n",
    "    else:\n",
    "        print(i)\n"
   ]
  },
  {
   "cell_type": "markdown",
   "id": "8d9ec810-321c-4eb1-befa-41b69e84c1cc",
   "metadata": {},
   "source": [
    "### Task 7\n",
    "Write a program which asks user for a comma-separated sequence of numbers (see hint section to understand, how to create a list out of it) and prints for each element of that sequence sum of the previous element and the next element. Previous element for the first element is the last element. Next element for the last element is the first element. If user entered only one number, the program should print that number.\n",
    "\n",
    "Example:\n",
    "\n",
    "Input: 1,3,5,6,10\n",
    "\n",
    "Output: 13 6 9 15 7\n",
    "\n",
    "*Hint:\n",
    "use for loop and if condition*\n",
    "\n",
    "How to read a list from user as input:\n",
    "```python\n",
    "list_numbers = list(eval(input('Enter a list of numbers\\n')))\n",
    "print(list_numbers)\n",
    "```"
   ]
  },
  {
   "cell_type": "code",
   "execution_count": null,
   "id": "6d3d7896-e677-4e76-bfbf-96394f8cdb53",
   "metadata": {},
   "outputs": [
    {
     "ename": "ValueError",
     "evalue": "invalid literal for int() with base 10: ''",
     "output_type": "error",
     "traceback": [
      "\u001b[1;31m---------------------------------------------------------------------------\u001b[0m",
      "\u001b[1;31mValueError\u001b[0m                                Traceback (most recent call last)",
      "Cell \u001b[1;32mIn[14], line 5\u001b[0m\n\u001b[0;32m      2\u001b[0m sequence \u001b[39m=\u001b[39m \u001b[39minput\u001b[39m(\u001b[39m\"\u001b[39m\u001b[39mEnter a comma-separated sequence of numbers: \u001b[39m\u001b[39m\"\u001b[39m)\n\u001b[0;32m      4\u001b[0m \u001b[39m# convert the sequence to a list of integers\u001b[39;00m\n\u001b[1;32m----> 5\u001b[0m numbers \u001b[39m=\u001b[39m [\u001b[39mint\u001b[39m(n) \u001b[39mfor\u001b[39;00m n \u001b[39min\u001b[39;00m sequence\u001b[39m.\u001b[39msplit(\u001b[39m\"\u001b[39m\u001b[39m,\u001b[39m\u001b[39m\"\u001b[39m)]\n\u001b[0;32m      7\u001b[0m \u001b[39m# calculate the sum of the previous and next element for each number in the list\u001b[39;00m\n\u001b[0;32m      8\u001b[0m \u001b[39mfor\u001b[39;00m i \u001b[39min\u001b[39;00m \u001b[39mrange\u001b[39m(\u001b[39mlen\u001b[39m(numbers)):\n",
      "Cell \u001b[1;32mIn[14], line 5\u001b[0m, in \u001b[0;36m<listcomp>\u001b[1;34m(.0)\u001b[0m\n\u001b[0;32m      2\u001b[0m sequence \u001b[39m=\u001b[39m \u001b[39minput\u001b[39m(\u001b[39m\"\u001b[39m\u001b[39mEnter a comma-separated sequence of numbers: \u001b[39m\u001b[39m\"\u001b[39m)\n\u001b[0;32m      4\u001b[0m \u001b[39m# convert the sequence to a list of integers\u001b[39;00m\n\u001b[1;32m----> 5\u001b[0m numbers \u001b[39m=\u001b[39m [\u001b[39mint\u001b[39;49m(n) \u001b[39mfor\u001b[39;00m n \u001b[39min\u001b[39;00m sequence\u001b[39m.\u001b[39msplit(\u001b[39m\"\u001b[39m\u001b[39m,\u001b[39m\u001b[39m\"\u001b[39m)]\n\u001b[0;32m      7\u001b[0m \u001b[39m# calculate the sum of the previous and next element for each number in the list\u001b[39;00m\n\u001b[0;32m      8\u001b[0m \u001b[39mfor\u001b[39;00m i \u001b[39min\u001b[39;00m \u001b[39mrange\u001b[39m(\u001b[39mlen\u001b[39m(numbers)):\n",
      "\u001b[1;31mValueError\u001b[0m: invalid literal for int() with base 10: ''"
     ]
    }
   ],
   "source": [
    "# prompt the user for a comma-separated sequence of numbers\n",
    "sequence = input(\"Enter a comma-separated sequence of numbers: \")\n",
    "\n",
    "# convert the sequence to a list of integers\n",
    "numbers = [int(n) for n in sequence.split(\",\")]\n",
    "\n",
    "# calculate the sum of the previous and next element for each number in the list\n",
    "for i in range(len(numbers)):\n",
    "    prev_index = (i - 1) % len(numbers)  # index of previous element\n",
    "    next_index = (i + 1) % len(numbers)  # index of next element\n",
    "    total = numbers[prev_index] + numbers[next_index]  # sum of previous and next element\n",
    "    print(total, end=\" \")  # print the total with a space after it\n",
    "\n",
    "# print a newline at the end\n",
    "print()\n"
   ]
  },
  {
   "cell_type": "code",
   "execution_count": null,
   "id": "a0571b03",
   "metadata": {},
   "outputs": [],
   "source": []
  }
 ],
 "metadata": {
  "kernelspec": {
   "display_name": "Python 3",
   "language": "python",
   "name": "python3"
  },
  "language_info": {
   "codemirror_mode": {
    "name": "ipython",
    "version": 3
   },
   "file_extension": ".py",
   "mimetype": "text/x-python",
   "name": "python",
   "nbconvert_exporter": "python",
   "pygments_lexer": "ipython3",
   "version": "3.10.9"
  },
  "vscode": {
   "interpreter": {
    "hash": "c261aea317cc0286b3b3261fbba9abdec21eaa57589985bb7a274bf54d6cc0a7"
   }
  }
 },
 "nbformat": 4,
 "nbformat_minor": 5
}
